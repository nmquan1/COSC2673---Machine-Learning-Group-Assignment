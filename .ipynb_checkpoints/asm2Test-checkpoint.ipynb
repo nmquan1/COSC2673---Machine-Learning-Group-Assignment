{
 "cells": [
  {
   "cell_type": "code",
   "execution_count": 1,
   "id": "c4c8f6cd-97ee-40fc-9c9d-27bdc24aba47",
   "metadata": {},
   "outputs": [],
   "source": [
    "import tensorflow as tf\n",
    "import numpy as np \n",
    "import pandas as pd\n",
    "import matplotlib.pyplot as plt\n",
    "import os\n",
    "import glob\n",
    "from tensorflow import keras\n",
    "from tensorflow.keras.utils import image_dataset_from_directory  # For creating datasets from directories\n",
    "from tabulate import tabulate\n"
   ]
  },
  {
   "cell_type": "code",
   "execution_count": 2,
   "id": "229b7dc3-6a40-4e4e-91ad-fb136711ecad",
   "metadata": {},
   "outputs": [],
   "source": [
    "gpu_conf = tf.config.experimental.list_physical_devices('GPU')\n",
    "for gpu in gpu_conf:\n",
    "    tf.config.experimental.set_memory_growth(gpu, True)"
   ]
  },
  {
   "cell_type": "code",
   "execution_count": 3,
   "id": "7a398688-1030-443e-a7b8-ef23a6b7f4f4",
   "metadata": {},
   "outputs": [],
   "source": [
    "data_dir = 'trafficsigns_dataset/trafficsigns_dataset'"
   ]
  },
  {
   "cell_type": "code",
   "execution_count": 4,
   "id": "f7a76d8b-00e4-4fb0-bfc4-574983a26c52",
   "metadata": {},
   "outputs": [
    {
     "name": "stdout",
     "output_type": "stream",
     "text": [
      "+------------------+------------------+\n",
      "|    Directory     | Number of Images |\n",
      "+------------------+------------------+\n",
      "|    rightofway    |       282        |\n",
      "|       stop       |        43        |\n",
      "|     bicycle      |       285        |\n",
      "|  limitedtraffic  |       125        |\n",
      "|     noentry      |       375        |\n",
      "|    noparking     |       242        |\n",
      "|    roundabout    |        98        |\n",
      "|      speed       |       316        |\n",
      "| trafficdirective |       195        |\n",
      "| traveldirection  |       124        |\n",
      "|     continue     |       199        |\n",
      "|     crossing     |        95        |\n",
      "|     laneend      |       118        |\n",
      "|     parking      |       276        |\n",
      "|     giveway      |       231        |\n",
      "|     warning      |       695        |\n",
      "+------------------+------------------+\n"
     ]
    }
   ],
   "source": [
    "def printSummary(path):\n",
    "    data = []\n",
    "    dir_name = []\n",
    "    # Iterate over each subdirectory\n",
    "    for dirpath, dirnames, filenames in os.walk(path):\n",
    "        # Count the number of image files in the current subdirectory\n",
    "        num_images = 0\n",
    "        for filename in filenames:\n",
    "            if filename.lower().endswith(('.png', '.jpg', '.jpeg')):\n",
    "                num_images += 1\n",
    "\n",
    "        # If any images are found, print a relative path from the base directory\n",
    "        if num_images > 0:\n",
    "            dir_name.append(dirnames)\n",
    "            # Get the relative path from the base directory\n",
    "            relative_path = os.path.basename(dirpath)\n",
    "            data.append([relative_path,num_images])\n",
    "    headers = ['Directory', 'Number of Images']\n",
    "    print(tabulate(data, headers=headers, tablefmt='pretty'))\n",
    "printSummary(data_dir)"
   ]
  },
  {
   "cell_type": "code",
   "execution_count": 5,
   "id": "7f0ae954-1251-4c76-ae04-d20151f6d7e3",
   "metadata": {},
   "outputs": [],
   "source": [
    "# Image dimensions and batch size\n",
    "img_height = 224\n",
    "img_width = 224\n",
    "batch_size = 32\n",
    "\n",
    "# Function to get data labeled by main folders\n",
    "def get_data_labeled_by_main_folders(data_dir, img_height, img_width, batch_size):\n",
    "    return image_dataset_from_directory(\n",
    "        data_dir,\n",
    "        shuffle=True,\n",
    "        batch_size=batch_size,\n",
    "        image_size=(img_height, img_width),\n",
    "        label_mode='categorical'  # Options: 'int', 'categorical', None\n",
    "    )"
   ]
  },
  {
   "cell_type": "code",
   "execution_count": 6,
   "id": "9862de5d-6cbb-4107-b819-916dab2dc3b8",
   "metadata": {},
   "outputs": [
    {
     "name": "stdout",
     "output_type": "stream",
     "text": [
      "Found 3699 files belonging to 5 classes.\n",
      "Classes (main): ['diamond', 'hex', 'round', 'square', 'triangle']\n"
     ]
    }
   ],
   "source": [
    "# Use the functions\n",
    "dataset_main = get_data_labeled_by_main_folders(data_dir, img_height, img_width, batch_size)\n",
    "\n",
    "print(\"Classes (main):\", dataset_main.class_names)"
   ]
  },
  {
   "cell_type": "code",
   "execution_count": 7,
   "id": "f70d753b-0cd8-41e6-88c5-ccbe0d48b3cd",
   "metadata": {},
   "outputs": [
    {
     "name": "stdout",
     "output_type": "stream",
     "text": [
      "Found 3699 files belonging to 16 classes.\n",
      "Classes: ['bicycle', 'continue', 'crossing', 'giveway', 'laneend', 'limitedtraffic', 'noentry', 'noparking', 'parking', 'rightofway', 'roundabout', 'speed', 'stop', 'trafficdirective', 'traveldirection', 'warning']\n"
     ]
    }
   ],
   "source": [
    "import os\n",
    "import shutil\n",
    "import tempfile\n",
    "import tensorflow as tf\n",
    "\n",
    "# Function to get only leaf directories\n",
    "def get_leaf_directories(data_dir):\n",
    "    leaf_directories = []\n",
    "    for dirpath, dirnames, filenames in os.walk(data_dir):\n",
    "        if not dirnames:\n",
    "            leaf_directories.append(dirpath)\n",
    "    return leaf_directories\n",
    "\n",
    "# Function to concatenate files from leaf directories into a temporary dataset\n",
    "def create_concatenated_dataset(data_dir):\n",
    "    # Create a temporary directory\n",
    "    temp_dir = tempfile.mkdtemp()\n",
    "    \n",
    "    try:\n",
    "        # Get the leaf directories and copy their contents to the temp directory\n",
    "        leaf_directories = get_leaf_directories(data_dir)\n",
    "\n",
    "        for leaf_dir in leaf_directories:\n",
    "            class_name = os.path.basename(leaf_dir)\n",
    "            dest_path = os.path.join(temp_dir, class_name)\n",
    "            os.makedirs(dest_path, exist_ok=True)\n",
    "\n",
    "            for filename in os.listdir(leaf_dir):\n",
    "                file_path = os.path.join(leaf_dir, filename)\n",
    "                if filename.lower().endswith(('.png', '.jpg', '.jpeg')):\n",
    "                    shutil.copy(file_path, dest_path)\n",
    "\n",
    "        # Create a TensorFlow dataset from the concatenated files\n",
    "        concatenated_dataset = tf.keras.utils.image_dataset_from_directory(\n",
    "            temp_dir,\n",
    "            shuffle=True,\n",
    "            batch_size=32,\n",
    "            image_size=(224,224),\n",
    "            label_mode='categorical'\n",
    "        )\n",
    "\n",
    "        # Return the dataset and the class names\n",
    "        return concatenated_dataset\n",
    "    \n",
    "    finally:\n",
    "        # Clean up the temporary directory after processing\n",
    "        shutil.rmtree(temp_dir)\n",
    "\n",
    "# Path to the original data directory\n",
    "data_dir = \"trafficsigns_dataset/trafficsigns_dataset\"\n",
    "\n",
    "# Create the dataset and get the class names\n",
    "dataset = create_concatenated_dataset(data_dir)\n",
    "\n",
    "# Verify the dataset is correctly loaded\n",
    "print(\"Classes:\", dataset.class_names)\n"
   ]
  },
  {
   "cell_type": "code",
   "execution_count": null,
   "id": "2a1b67dc-8889-49d2-bdc3-b93662edb5ef",
   "metadata": {},
   "outputs": [],
   "source": []
  }
 ],
 "metadata": {
  "kernelspec": {
   "display_name": "Python 3 (ipykernel)",
   "language": "python",
   "name": "python3"
  },
  "language_info": {
   "codemirror_mode": {
    "name": "ipython",
    "version": 3
   },
   "file_extension": ".py",
   "mimetype": "text/x-python",
   "name": "python",
   "nbconvert_exporter": "python",
   "pygments_lexer": "ipython3",
   "version": "3.11.7"
  }
 },
 "nbformat": 4,
 "nbformat_minor": 5
}
